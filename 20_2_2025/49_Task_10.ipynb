{
  "nbformat": 4,
  "nbformat_minor": 0,
  "metadata": {
    "colab": {
      "provenance": []
    },
    "kernelspec": {
      "name": "python3",
      "display_name": "Python 3"
    },
    "language_info": {
      "name": "python"
    }
  },
  "cells": [
    {
      "cell_type": "markdown",
      "source": [
        "### `Q-1:` Write a function `get_final_line(filename)`, which takes filename as input and return final line of the file.\n",
        "\n",
        "Note: You can choose any file of your choice."
      ],
      "metadata": {
        "id": "MbeMdx5d5qRj"
      }
    },
    {
      "cell_type": "code",
      "source": [
        "def get_final(filename):\n",
        "  with open(filename,'r') as f:\n",
        "    l=f.readlines()\n",
        "  return l[-1]\n",
        "\n",
        "print(get_final('file.txt'))"
      ],
      "metadata": {
        "id": "rjx9XRTq5uzD",
        "colab": {
          "base_uri": "https://localhost:8080/"
        },
        "outputId": "1d51a250-c269-49a5-a132-64cf038cd823"
      },
      "execution_count": 1,
      "outputs": [
        {
          "output_type": "stream",
          "name": "stdout",
          "text": [
            "line4\n"
          ]
        }
      ]
    },
    {
      "cell_type": "markdown",
      "source": [
        "###`Q-2:` Read through a text file, line by line. Use a dict to keep track of how many times each vowel (a, e, i, o, and u) appears in the file. Print the resulting tabulation -- dictionary."
      ],
      "metadata": {
        "id": "B87Z6-yQ5wVO"
      }
    },
    {
      "cell_type": "code",
      "source": [
        "# Write code here\n",
        "def count_vowel(filename):\n",
        "  dict_={'a':0,'e':0,'i':0,'o':0,'u':0}\n",
        "  with open(filename,'r') as f:\n",
        "    line=f.readline()\n",
        "    while line:\n",
        "      for e in line:\n",
        "        if(e=='a' or e=='e' or e=='i' or e=='o' or e=='u'):\n",
        "          dict_[e]+=1\n",
        "      line=f.readline()\n",
        "  return dict_\n",
        "\n",
        "print(count_vowel(\"file.txt\"))\n",
        "\n"
      ],
      "metadata": {
        "id": "XeXnOL7X50Sa",
        "colab": {
          "base_uri": "https://localhost:8080/"
        },
        "outputId": "cb009a24-0271-4e34-eb07-5ba8b2c7709e"
      },
      "execution_count": 1,
      "outputs": [
        {
          "output_type": "stream",
          "name": "stdout",
          "text": [
            "{'a': 0, 'e': 4, 'i': 4, 'o': 0, 'u': 0}\n"
          ]
        }
      ]
    },
    {
      "cell_type": "markdown",
      "source": [
        "###`Q-3:` Create a text file (using an editor, not necessarily Python) containing two tab separated columns, with each column containing a number. Then use Python to read through the file you’ve created. For each line, multiply each first number by the second and include it in the file in third column. In last add a line Total, by summing the value of third column\n",
        "\n"
      ],
      "metadata": {
        "id": "lRqQ2Y295-Gg"
      }
    },
    {
      "cell_type": "markdown",
      "source": [
        "Input File example: That you need to create\n",
        "```\n",
        "1   2\n",
        "3   4\n",
        "5   6\n",
        "7   8\n",
        "9   10\n",
        "\n",
        "```\n",
        "\n",
        "Output File Example:\n",
        "```\n",
        "1   2   2\n",
        "3   4   12\n",
        "5   6   30\n",
        "7   8   56\n",
        "9   10  90\n",
        "Total   190\n",
        "```\n"
      ],
      "metadata": {
        "id": "GtFfahZc6Bvg"
      }
    },
    {
      "cell_type": "code",
      "source": [
        "def fun(filename):\n",
        "  lines=[]\n",
        "  total=0\n",
        "  with open(filename,'r') as f1:\n",
        "    row=f1.readline()\n",
        "    while row:\n",
        "      row=row.strip()\n",
        "      print(row)\n",
        "      # l=[int(e) for e in row.split(\"  \")]\n",
        "      l=[int(e) for e in row.split(' ')]\n",
        "      lines.append(\"{}\\t{}\\t{}\".format(l[0],l[1],l[0]*l[1]))\n",
        "      total+=l[0]*l[1]\n",
        "      row=f1.readline()\n",
        "\n",
        "    lines.append(\"Total   {}\".format(total))\n",
        "    text='\\n'.join(lines)\n",
        "    with open(filename,'w') as f2:\n",
        "      f2.write(text)\n",
        "\n",
        "\n",
        "\n",
        "\n",
        "fun(\"file.txt\")"
      ],
      "metadata": {
        "id": "GiKvqHnr5-j2",
        "colab": {
          "base_uri": "https://localhost:8080/"
        },
        "outputId": "68aa2cab-8b31-4211-9811-127390f0951d"
      },
      "execution_count": 40,
      "outputs": [
        {
          "output_type": "stream",
          "name": "stdout",
          "text": [
            "1 10\n",
            "2 20\n",
            "3 30\n"
          ]
        }
      ]
    },
    {
      "cell_type": "markdown",
      "source": [
        "###`Q-4:` Create line wise reverse of a file\n",
        "Write a function which takes two arguments: the names of the input file (to be read from) and the output file (which will be created)."
      ],
      "metadata": {
        "id": "DunQepHC6J9r"
      }
    },
    {
      "cell_type": "markdown",
      "source": [
        "For example, if a file looks like\n",
        " ```\n",
        "abc def\n",
        "ghi jkl\n",
        "```\n",
        "then the output file will be\n",
        "```\n",
        "fed cba\n",
        "lkj ihg\n",
        "```\n",
        "**Notice**: The newline remains at the end of the string, while the rest of the characters are all reversed."
      ],
      "metadata": {
        "id": "QxWEtFle6Nmu"
      }
    },
    {
      "cell_type": "code",
      "source": [
        "# write code here\n",
        "def reverse_line(filename):\n",
        "  lines=[]\n",
        "  with open(filename,'r') as f:\n",
        "    line=f.readline()\n",
        "    while line:\n",
        "      line=line[::-1]\n",
        "      line=line.strip()\n",
        "      lines.append(line)\n",
        "      line=f.readline()\n",
        "\n",
        "  print(lines)\n",
        "  text='\\n'.join(lines)\n",
        "  with open(filename,'w') as f:\n",
        "    f.write(text)\n",
        "\n",
        "reverse_line(\"file.txt\")\n"
      ],
      "metadata": {
        "id": "aIJTJNAq6LD7",
        "colab": {
          "base_uri": "https://localhost:8080/"
        },
        "outputId": "8471a1a0-12ef-4178-ef2d-9756595d85fd"
      },
      "execution_count": 44,
      "outputs": [
        {
          "output_type": "stream",
          "name": "stdout",
          "text": [
            "['abc def', 'ghi jkl']\n"
          ]
        }
      ]
    },
    {
      "cell_type": "markdown",
      "source": [
        "###`Q-5:` Create a Serialized dict of frequency of words in the file. And from given list of words, using serialized dict show word count.\n",
        "\n",
        "* List of word will be given\n",
        "\n"
      ],
      "metadata": {
        "id": "wqvx3sMY6bou"
      }
    },
    {
      "cell_type": "markdown",
      "source": [
        "Given String\n",
        "\n",
        "```\n",
        "strings = \"\"\"Alice was beginning to get very tired of sitting by her sister\n",
        "            on the bank, and of having nothing to do:  once or twice she had\n",
        "            peeped into the book her sister was reading, but it had no\n",
        "            pictures or conversations in it, `and what is the use of a book,'\n",
        "            thought Alice `without pictures or conversation?'\n",
        "\n",
        "            So she was considering in her own mind (as well as she could,\n",
        "            for the hot day made her feel very sleepy and stupid), whether\n",
        "            the pleasure of making a daisy-chain would be worth the trouble\n",
        "            of getting up and picking the daisies, when suddenly a White\n",
        "            Rabbit with pink eyes ran close by her.\n",
        "\n",
        "            There was nothing so VERY remarkable in that; nor did Alice\n",
        "            think it so VERY much out of the way to hear the Rabbit say to\n",
        "            itself, `Oh dear!  Oh dear!  I shall be late!'  (when she thought\n",
        "            it over afterwards, it occurred to her that she ought to have\n",
        "            wondered at this, but at the time it all seemed quite natural);\n",
        "            but when the Rabbit actually TOOK A WATCH OUT OF ITS WAISTCOAT-\n",
        "            POCKET, and looked at it, and then hurried on, Alice started to\n",
        "            her feet, for it flashed across her mind that she had never\n",
        "            before seen a rabbit with either a waistcoat-pocket, or a watch to\n",
        "            take out of it, and burning with curiosity, she ran across the\n",
        "            field after it, and fortunately was just in time to see it pop\n",
        "            down a large rabbit-hole under the hedge.\"\"\"\n",
        "\n",
        "word_list = ['alice', 'wonder', 'natural']\n",
        "```"
      ],
      "metadata": {
        "id": "uc5MSUWg6cZG"
      }
    },
    {
      "cell_type": "code",
      "source": [
        "# write code here\n",
        "import json\n",
        "def fun(filename,word_list):\n",
        "  dict_={e:0 for e in word_list }\n",
        "  with open(filename,'r') as f:\n",
        "    text=f.read()\n",
        "    list_of_words=[e.strip().lower() for e in text.split(' ')]\n",
        "    print(list_of_words)\n",
        "    for word in list_of_words:\n",
        "      if word in word_list:\n",
        "        dict_[word]+=1\n",
        "  print(dict_)\n",
        "  with open(\"file.json\",'w') as f:\n",
        "    json.dump(dict_,f)\n",
        "\n",
        "word_list = ['alice', 'wonder', 'natural']\n",
        "fun(\"file.txt\",word_list)\n"
      ],
      "metadata": {
        "id": "-SmtFFUq6a70",
        "colab": {
          "base_uri": "https://localhost:8080/"
        },
        "outputId": "932233cc-0e76-4d7f-9e5d-4e8efd5731f1"
      },
      "execution_count": 51,
      "outputs": [
        {
          "output_type": "stream",
          "name": "stdout",
          "text": [
            "['alice', 'was', 'beginning', 'to', 'get', 'very', 'tired', 'of', 'sitting', 'by', 'her', 'sister', '', '', '', '', '', '', '', '', '', '', '', 'on', 'the', 'bank,', 'and', 'of', 'having', 'nothing', 'to', 'do:', '', 'once', 'or', 'twice', 'she', 'had', '', '', '', '', '', '', '', '', '', '', '', 'peeped', 'into', 'the', 'book', 'her', 'sister', 'was', 'reading,', 'but', 'it', 'had', 'no', '', '', '', '', '', '', '', '', '', '', '', 'pictures', 'or', 'conversations', 'in', 'it,', '`and', 'what', 'is', 'the', 'use', 'of', 'a', \"book,'\", '', '', '', '', '', '', '', '', '', '', '', 'thought', 'alice', '`without', 'pictures', 'or', \"conversation?'\", '', '', '', '', '', '', '', '', '', '', '', 'so', 'she', 'was', 'considering', 'in', 'her', 'own', 'mind', '(as', 'well', 'as', 'she', 'could,', '', '', '', '', '', '', '', '', '', '', '', 'for', 'the', 'hot', 'day', 'made', 'her', 'feel', 'very', 'sleepy', 'and', 'stupid),', 'whether', '', '', '', '', '', '', '', '', '', '', '', 'the', 'pleasure', 'of', 'making', 'a', 'daisy-chain', 'would', 'be', 'worth', 'the', 'trouble', '', '', '', '', '', '', '', '', '', '', '', 'of', 'getting', 'up', 'and', 'picking', 'the', 'daisies,', 'when', 'suddenly', 'a', 'white', '', '', '', '', '', '', '', '', '', '', '', 'rabbit', 'with', 'pink', 'eyes', 'ran', 'close', 'by', 'her.', '', '', '', '', '', '', '', '', '', '', '', 'there', 'was', 'nothing', 'so', 'very', 'remarkable', 'in', 'that;', 'nor', 'did', 'alice', '', '', '', '', '', '', '', '', '', '', '', 'think', 'it', 'so', 'very', 'much', 'out', 'of', 'the', 'way', 'to', 'hear', 'the', 'rabbit', 'say', 'to', '', '', '', '', '', '', '', '', '', '', '', 'itself,', '`oh', 'dear!', '', 'oh', 'dear!', '', 'i', 'shall', 'be', \"late!'\", '', '(when', 'she', 'thought', '', '', '', '', '', '', '', '', '', '', '', 'it', 'over', 'afterwards,', 'it', 'occurred', 'to', 'her', 'that', 'she', 'ought', 'to', 'have', '', '', '', '', '', '', '', '', '', '', '', 'wondered', 'at', 'this,', 'but', 'at', 'the', 'time', 'it', 'all', 'seemed', 'quite', 'natural);', '', '', '', '', '', '', '', '', '', '', '', 'but', 'when', 'the', 'rabbit', 'actually', 'took', 'a', 'watch', 'out', 'of', 'its', 'waistcoat-', '', '', '', '', '', '', '', '', '', '', '', 'pocket,', 'and', 'looked', 'at', 'it,', 'and', 'then', 'hurried', 'on,', 'alice', 'started', 'to', '', '', '', '', '', '', '', '', '', '', '', 'her', 'feet,', 'for', 'it', 'flashed', 'across', 'her', 'mind', 'that', 'she', 'had', 'never', '', '', '', '', '', '', '', '', '', '', '', 'before', 'seen', 'a', 'rabbit', 'with', 'either', 'a', 'waistcoat-pocket,', 'or', 'a', 'watch', 'to', '', '', '', '', '', '', '', '', '', '', '', 'take', 'out', 'of', 'it,', 'and', 'burning', 'with', 'curiosity,', 'she', 'ran', 'across', 'the', '', '', '', '', '', '', '', '', '', '', '', 'field', 'after', 'it,', 'and', 'fortunately', 'was', 'just', 'in', 'time', 'to', 'see', 'it', 'pop', '', '', '', '', '', '', '', '', '', '', '', 'down', 'a', 'large', 'rabbit-hole', 'under', 'the', 'hedge.']\n",
            "{'alice': 4, 'wonder': 0, 'natural': 0}\n"
          ]
        }
      ]
    },
    {
      "cell_type": "markdown",
      "source": [
        "### **`Q-6:`** Given a string calculate length of the string using recursion.\n",
        "\n",
        "**Example 1:**\n",
        "\n",
        "Input:\n",
        "```bash\n",
        "\"abcd\"\n",
        "```\n",
        "\n",
        "Output:\n",
        "\n",
        "```bash\n",
        "4\n",
        "```\n",
        "\n",
        "**Example 2:**\n",
        "\n",
        "Input:\n",
        "```bash\n",
        "DataScience\n",
        "```\n",
        "\n",
        "Output:\n",
        "\n",
        "```bash\n",
        "11\n",
        "```\n"
      ],
      "metadata": {
        "id": "Und2HuFW6kAw"
      }
    },
    {
      "cell_type": "code",
      "source": [
        "# Write code here\n",
        "def fun(s,index):\n",
        "  if(index==len(s)):\n",
        "    return 0\n",
        "  return fun(s,index+1)+1\n",
        "\n",
        "print(fun(\"abcd\",0))\n",
        "print(fun(\"datascience\",0))"
      ],
      "metadata": {
        "id": "9HE7lB5W61gT",
        "colab": {
          "base_uri": "https://localhost:8080/"
        },
        "outputId": "07141ad5-7663-4a42-d383-b0702b18aae4"
      },
      "execution_count": 53,
      "outputs": [
        {
          "output_type": "stream",
          "name": "stdout",
          "text": [
            "4\n",
            "11\n"
          ]
        }
      ]
    },
    {
      "cell_type": "markdown",
      "source": [
        "### **`Q-7:`** Write a function that accepts two numbers and returns their greatest common divisior. Without using any loop\n",
        "\n",
        "def gcd(int, int) => int\n",
        "\n",
        "```\n",
        "gcd(16,24) will give 8\n",
        "```"
      ],
      "metadata": {
        "id": "iUDvc-jl6759"
      }
    },
    {
      "cell_type": "code",
      "source": [
        "# Write code here\n",
        "def gcd(a,b):\n",
        "  if(a<b):\n",
        "    c=a\n",
        "    a=b\n",
        "    b=c\n",
        "  if(a%b==0):\n",
        "     return b;\n",
        "  else:\n",
        "   return gcd(b,a%b)\n",
        "\n",
        "print(gcd(16,24))\n",
        "print(gcd(13,17))"
      ],
      "metadata": {
        "id": "uMQnojHR7O2S",
        "colab": {
          "base_uri": "https://localhost:8080/"
        },
        "outputId": "6032dee8-7dfa-4671-a7c5-9ab8765da0e5"
      },
      "execution_count": 54,
      "outputs": [
        {
          "output_type": "stream",
          "name": "stdout",
          "text": [
            "8\n",
            "1\n"
          ]
        }
      ]
    },
    {
      "cell_type": "markdown",
      "source": [
        " ### `Q-8:` String Edit Distance\n",
        "\n",
        " Use your recursive function to write a program that reads two strings from the\n",
        "user and displays the edit distance between them.\n",
        "\n",
        "*The edit distance between two strings is a measure of their similarity—the smaller the edit distance, the more similar the strings are with regard to the minimum number of insert, delete and substitute operations needed to transform one string into the other.*\n",
        "\n",
        "Consider the strings `kitten` and `sitting`. The first string can be transformed\n",
        "into the second string with the following operations:\n",
        "* Substitute the `k` with an `s`,\n",
        "* substitute the `e` with an `i`,\n",
        "* and insert a `g` at the end of the string.\n",
        "\n",
        "This is the smallest number of operations that can be performed to transform kitten into sitting. As a result, the edit distance is `3`.\n",
        "\n",
        "\n",
        "Write a recursive function that computes the edit distance between two strings.\n",
        "\n",
        "Use the following algorithm:\n",
        "\n",
        "```\n",
        "Let s and t be the strings\n",
        "    If the length of s is 0 then\n",
        "        Return the length of t\n",
        "    Else if the length of t is 0 then\n",
        "        Return the length of s\n",
        "    Else\n",
        "        Set cost to 0\n",
        "        If the last character in s does not equal the last character in t then\n",
        "            Set cost to 1\n",
        "        Set d1 equal to the edit distance between all characters except the last one in s, and all characters in t, plus 1\n",
        "        Set d2 equal to the edit distance between all characters in s, and all characters except the last one in t, plus 1\n",
        "\n",
        "        Set d3 equal to the edit distance between all characters except the last one in s, and all characters except the last one in t, plus cost\n",
        "        Return the minimum of d1, d2 and d3\n",
        "```\n",
        "\n",
        "\n",
        "\n"
      ],
      "metadata": {
        "id": "wFD35fva7Q_B"
      }
    },
    {
      "cell_type": "code",
      "source": [
        "# write code here"
      ],
      "metadata": {
        "id": "zlNy_Q987QOX"
      },
      "execution_count": null,
      "outputs": []
    },
    {
      "cell_type": "markdown",
      "source": [
        "###`Q-9:` Run-Length Encoding\n",
        "\n",
        "Run-length encoding is a simple data compression technique that can be effective when repeated values occur at adjacent positions within a list. Compression is achieved by replacing groups of repeated values with one copy of the value, followed by the number of times that the value should be repeated. For example, the list\n",
        "```\n",
        "[\"A\", \"A\", \"A\", \"A\", \"A\", \"A\", \"A\", \"A\", \"A\", \"A\", \"A\", \"A\", \"B\", \"B\", \"B\", \"B\", \"A\", \"A\", \"A\", \"A\", \"A\", \"A\", \"B\"]\n",
        "```\n",
        "would be compressed as `[\"A\", 12, \"B\", 4, \"A\", 6, \"B\", 1]`.\n",
        "\n",
        "Write a recursive function that implements the run-length compression technique\n",
        "described above. Your function will take a list or a string as its only parameter. It should return the run-length compressed list as its only result. Include a main program that reads a string from the user, compresses it, and displays the run-length encoded result."
      ],
      "metadata": {
        "id": "Hc9e-qES7iAK"
      }
    },
    {
      "cell_type": "code",
      "source": [
        "# Write code here"
      ],
      "metadata": {
        "id": "W2Wb_WzP7qM1"
      },
      "execution_count": null,
      "outputs": []
    },
    {
      "cell_type": "markdown",
      "source": [
        "###`Q-10:` Write a recursive function to convert a decimal to binary"
      ],
      "metadata": {
        "id": "x6A-4vGC8SLs"
      }
    },
    {
      "cell_type": "code",
      "source": [
        "# Write code here"
      ],
      "metadata": {
        "id": "izOr6D9V8aME"
      },
      "execution_count": null,
      "outputs": []
    }
  ]
}