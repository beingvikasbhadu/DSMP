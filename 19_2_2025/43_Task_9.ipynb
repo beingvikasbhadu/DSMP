{
  "nbformat": 4,
  "nbformat_minor": 0,
  "metadata": {
    "colab": {
      "provenance": [],
      "collapsed_sections": [
        "BCleRtX43caS",
        "KBbGNTtQ47mJ",
        "ExIxsv4y-oEd",
        "OcQhJvXVALgp",
        "sEsGEqOHCSWG",
        "v1M5Yh9ZZO0z"
      ]
    },
    "kernelspec": {
      "name": "python3",
      "display_name": "Python 3"
    },
    "language_info": {
      "name": "python"
    }
  },
  "cells": [
    {
      "cell_type": "markdown",
      "source": [
        "### `Problem-1:` Class inheritence\n",
        "\n",
        "Create a **Bus** child class that inherits from the Vehicle class. The default fare charge of any vehicle is seating capacity * 100. If Vehicle is Bus instance, we need to add an extra 10% on full fare as a maintenance charge. So total fare for bus instance will become the final amount = total fare + 10% of the total fare.\n",
        "\n",
        "Note: The bus seating capacity is 5\n",
        " so the final fare amount should be 5500. You need to override the fare() method of a Vehicle class in Bus class."
      ],
      "metadata": {
        "id": "BCleRtX43caS"
      }
    },
    {
      "cell_type": "code",
      "execution_count": 2,
      "metadata": {
        "colab": {
          "base_uri": "https://localhost:8080/"
        },
        "id": "6jVFCXKz3YZI",
        "outputId": "ec58bf0a-1951-4940-ffcf-a9b36355a078"
      },
      "outputs": [
        {
          "output_type": "stream",
          "name": "stdout",
          "text": [
            "Enter the capacity of Bus50\n",
            "Fare would be - 5500.0\n"
          ]
        }
      ],
      "source": [
        "# Write code here\n",
        "class Vehicle:\n",
        "  def __init__(self,capacity):\n",
        "    self.__capacity=capacity\n",
        "\n",
        "  def fare(self):\n",
        "    return self.__capacity*100\n",
        "\n",
        "class Bus(Vehicle):\n",
        "  def __init__(self,capacity):\n",
        "    super().__init__(capacity)\n",
        "\n",
        "  def fare(self):\n",
        "    base_fare=super().fare()\n",
        "    mtn_fare=base_fare*.1\n",
        "    return base_fare+mtn_fare\n",
        "\n",
        "capacity=eval(input(\"Enter the capacity of Bus\"))\n",
        "bus=Bus(capacity)\n",
        "\n",
        "print(\"Fare would be - {}\".format(bus.fare()))"
      ]
    },
    {
      "cell_type": "markdown",
      "source": [
        "### `Problem-2:` Class Inheritence\n",
        "\n",
        "Create a Bus class that inherits from the Vehicle class. Give the capacity argument of *Bus.seating_capacity()* a default value of 50.\n",
        "\n",
        "Use the following code for your parent Vehicle class."
      ],
      "metadata": {
        "id": "KBbGNTtQ47mJ"
      }
    },
    {
      "cell_type": "code",
      "source": [
        "class Vechicle:\n",
        "  def __init__(self,capacity):\n",
        "    self.__capacity=capacity\n",
        "\n",
        "  def fare(self):\n",
        "    return self.__capacity*100\n",
        "\n",
        "class Bus(Vehicle):\n",
        "  def __init__(self,capacity=50):\n",
        "    print(\"capacity:\",capacity)\n",
        "    super().__init__(capacity)\n",
        "\n",
        "  def fare(self):\n",
        "    base_fare=super().fare()\n",
        "    mtn_fare=base_fare*.1\n",
        "    return base_fare+mtn_fare\n",
        "\n",
        "\n",
        "\n",
        "\n",
        "bus=Bus()\n",
        "print(bus.fare())\n",
        "\n",
        "capacity=eval(input(\"Enter the capacity of Bus\"))\n",
        "\n",
        "bus1=Bus(capacity)\n",
        "print(bus1.fare())\n"
      ],
      "metadata": {
        "id": "MwOnYE_14M-r",
        "colab": {
          "base_uri": "https://localhost:8080/"
        },
        "outputId": "308882ca-ce0f-4ed0-bd32-c049dab8ee81"
      },
      "execution_count": 6,
      "outputs": [
        {
          "output_type": "stream",
          "name": "stdout",
          "text": [
            "capacity: 50\n",
            "5500.0\n",
            "Enter the capacity of Bus5\n",
            "capacity: 5\n",
            "550.0\n"
          ]
        }
      ]
    },
    {
      "cell_type": "markdown",
      "source": [],
      "metadata": {
        "id": "8VGE7AWJiuv1"
      }
    },
    {
      "cell_type": "markdown",
      "source": [
        "### `Problem-3:` Write a program that has a class Point. Define another class Location which has two objects (Location & Destination) of class Point. Also define a function in Location that prints the reflection of Destination on the x axis."
      ],
      "metadata": {
        "id": "ExIxsv4y-oEd"
      }
    },
    {
      "cell_type": "code",
      "source": [
        "class Point:\n",
        "  def __init__(self,x,y):\n",
        "    self.__x=x\n",
        "    self.__y=y\n",
        "\n",
        "  def get_x(self):\n",
        "    return self.__x\n",
        "\n",
        "  def get_y(self):\n",
        "    return self.__y\n",
        "\n",
        "class Location:\n",
        "  def __init__(self,p1,p2):\n",
        "    self.__location=p1\n",
        "    self.__destination=p2\n",
        "\n",
        "  def reflection_destination(self):\n",
        "    r_x=self.__destination.get_x()\n",
        "    r_y=(-1)*self.__destination.get_y()\n",
        "    print(\"Reflection of destination wrt to x-axis would be - ({},{})\".format(r_x,r_y))\n",
        "\n",
        "p1=Point(2,3)\n",
        "p2=Point(4,-5)\n",
        "\n",
        "l=Location(p1,p2)\n",
        "l.reflection_destination()\n",
        "\n",
        "\n"
      ],
      "metadata": {
        "id": "yT2QtzQp5VAB",
        "colab": {
          "base_uri": "https://localhost:8080/"
        },
        "outputId": "adb2b276-a598-405e-f435-77e28884b2f1"
      },
      "execution_count": 7,
      "outputs": [
        {
          "output_type": "stream",
          "name": "stdout",
          "text": [
            "Reflection of destination wrt to x-axis would be - (4,5)\n"
          ]
        }
      ]
    },
    {
      "cell_type": "markdown",
      "source": [
        "### `Problem-4:` Write a program that has an abstract class Polygon. Derive two classes Rectangle and Triamgle from Polygon and write methods to get the details of their dimensions and hence calculate the area."
      ],
      "metadata": {
        "id": "OcQhJvXVALgp"
      }
    },
    {
      "cell_type": "code",
      "source": [
        "from abc import ABC, abstractmethod\n",
        "\n",
        "class Polygon(ABC):\n",
        "  @abstractmethod\n",
        "  def area(self):\n",
        "    pass\n",
        "\n",
        "class Rectangle(Polygon):\n",
        "  def __init__(self,l,b):\n",
        "    self.__l=l\n",
        "    self.__b=b\n",
        "\n",
        "  def get_length(self):\n",
        "    return self.__l\n",
        "\n",
        "  def get_breadth(self):\n",
        "    return self.__b\n",
        "\n",
        "  def area(self):\n",
        "    return self.__l*self.__b\n",
        "\n",
        "\n",
        "class Triangle(Polygon):\n",
        "  def __init__(self,b,h):\n",
        "    self.__b=b\n",
        "    self.__h=h\n",
        "\n",
        "  def area(self):\n",
        "    return .5*self.__b*self.__h\n",
        "\n",
        "\n",
        "r=Rectangle(2,5)\n",
        "t=Triangle(4,5)\n",
        "\n",
        "print(r.area())\n",
        "print(t.area())\n",
        "\n"
      ],
      "metadata": {
        "id": "9IMrtdUH__eA",
        "colab": {
          "base_uri": "https://localhost:8080/"
        },
        "outputId": "8cd838cc-72ab-44a2-84f8-6ca13b129bfe"
      },
      "execution_count": 24,
      "outputs": [
        {
          "output_type": "stream",
          "name": "stdout",
          "text": [
            "10\n",
            "10.0\n"
          ]
        }
      ]
    },
    {
      "cell_type": "markdown",
      "source": [
        "### `Problem-5:` Write a program with class Bill. The users have the option to pay the bill either by cheque or by cash. Use the inheritance to model this situation."
      ],
      "metadata": {
        "id": "sEsGEqOHCSWG"
      }
    },
    {
      "cell_type": "code",
      "source": [
        "class Bill:\n",
        "  def __init__(self,amount):\n",
        "    self.__amount=amount\n",
        "\n",
        "  def get_amount(self):\n",
        "    return self.__amount\n",
        "\n",
        "class Cheque(Bill):\n",
        "  def __init__(self,exp_date,signature,amount):\n",
        "    super().__init__(amount)\n",
        "    self.__exp_date=exp_date\n",
        "    self.__signature=signature\n",
        "    print(\"Bill paid\")\n",
        "\n",
        "class Cash(Bill):\n",
        "  def __init__(self,amount):\n",
        "    super().__init__(amount)\n",
        "    print(\"Bill Paid\")\n",
        "\n",
        "amount=eval(input(\"Enter the Amount\"))\n",
        "print(\"\"\"\n",
        "1.By Cheque\n",
        "2.By Cash\n",
        "\"\"\")\n",
        "while True:\n",
        "  option=eval(input(\"Choose one option: \"))\n",
        "  if option==1:\n",
        "    exp_date=input(\"expiry date\")\n",
        "    signature=input(\"Signature\")\n",
        "    cq=Cheque(exp_date,signature,amount)\n",
        "    break\n",
        "  elif option==2:\n",
        "    c=Cash(amount)\n",
        "    break\n",
        "  else:\n",
        "    print(\"Wrong Option Selected\")\n",
        "\n"
      ],
      "metadata": {
        "id": "l0WFyP2PB3nf",
        "colab": {
          "base_uri": "https://localhost:8080/"
        },
        "outputId": "3724533a-1363-4814-b3a6-c540ce75e8be"
      },
      "execution_count": 34,
      "outputs": [
        {
          "output_type": "stream",
          "name": "stdout",
          "text": [
            "Enter the Amount500\n",
            "\n",
            "1.By Cheque\n",
            "2.By Cash\n",
            "\n",
            "Choose one option: 4\n",
            "Wrong Option Selected\n",
            "Choose one option: 2\n",
            "Bill Paid\n"
          ]
        }
      ]
    },
    {
      "cell_type": "markdown",
      "source": [
        "1###`Q-6:` FlexibleDict\n",
        "As of now we are accessing values from dictionary with exact keys. Now we want to amend accessing values functionality. if a dict have key `1` (int) the even if we try to access values by giving `'1'` (1 as str) as key, we should get the same result and vice versa.\n",
        "\n",
        "Write a class `FlexibleDict` upon builtin `dict` class with above required functionality.\n",
        "\n",
        "Hint- `dict[key] => dict.__getitem__(key)`"
      ],
      "metadata": {
        "id": "v1M5Yh9ZZO0z"
      }
    },
    {
      "cell_type": "markdown",
      "source": [
        "Ex.\n",
        "```\n",
        "fd = FlexibleDict()\n",
        "fd['a'] = 100\n",
        "print(fd['a']) # Like regular dict\n",
        "\n",
        "fd[5] = 500\n",
        "print(fd[5]) # Like regular dict\n",
        "\n",
        "fd[1] = 100\n",
        "print(fd['1']) # actual Key is int but still trying to access through str key.\n",
        "fd['1'] = 100\n",
        "print(fd[1])\n",
        "\n",
        "```\n",
        "`Output:`\n",
        "```\n",
        "100\n",
        "500\n",
        "100\n",
        "100\n",
        "\n",
        "```"
      ],
      "metadata": {
        "id": "uajGeWegbfda"
      }
    },
    {
      "cell_type": "code",
      "source": [
        "class FlexibleDict:\n",
        "  def __init__(self):\n",
        "    self.__dict=dict()\n",
        "\n",
        "  def __setitem__(self,key,value):\n",
        "    if type(key)==str:\n",
        "      self.__dict[key]=value\n",
        "    else:\n",
        "      self.__dict[str(key)]=value\n",
        "\n",
        "  def __getitem__(self,key):\n",
        "    new_key=str(key)\n",
        "    return self.__dict[new_key]\n",
        "\n",
        "fd = FlexibleDict()\n",
        "fd['a'] = 100\n",
        "print(fd['a']) # Like regular dict\n",
        "\n",
        "fd[5] = 500\n",
        "print(fd[5]) # Like regular dict\n",
        "\n",
        "fd[1] = 100\n",
        "print(fd['1']) # actual Key is int but still trying to access through str key.\n",
        "fd['1'] = 100\n",
        "print(fd[1])\n",
        ""
      ],
      "metadata": {
        "id": "OHLbOtCxZ2nw",
        "colab": {
          "base_uri": "https://localhost:8080/"
        },
        "outputId": "b5cad2b7-fed1-44fe-8c0b-3020b41eb409"
      },
      "execution_count": 38,
      "outputs": [
        {
          "output_type": "stream",
          "name": "stdout",
          "text": [
            "100\n",
            "500\n",
            "100\n",
            "100\n"
          ]
        }
      ]
    },
    {
      "cell_type": "code",
      "source": [
        "# Example of Abstraction"
      ],
      "metadata": {
        "id": "7NM8r__dmeMf"
      },
      "execution_count": 39,
      "outputs": []
    },
    {
      "cell_type": "code",
      "source": [
        "from abc import ABC,abstractmethod\n",
        "\n",
        "class BankApp(ABC):\n",
        "\n",
        "  @abstractmethod\n",
        "  def fun(self):\n",
        "    pass\n",
        "\n",
        "# b=BankApp()"
      ],
      "metadata": {
        "id": "beg-GAxzl8wZ"
      },
      "execution_count": 40,
      "outputs": []
    },
    {
      "cell_type": "code",
      "source": [
        "class MobileApp(BankApp):\n",
        "  def __init__(self):\n",
        "    print(\"Mobile App is working!\")\n",
        "  def fun(self):\n",
        "    print(\"This is mobile App\")\n",
        "\n",
        "m=MobileApp()"
      ],
      "metadata": {
        "colab": {
          "base_uri": "https://localhost:8080/"
        },
        "id": "M9rlBZYKmo__",
        "outputId": "4a2ebe14-4620-4d38-c38a-9f74937edd92"
      },
      "execution_count": 41,
      "outputs": [
        {
          "output_type": "stream",
          "name": "stdout",
          "text": [
            "Mobile App is working!\n"
          ]
        }
      ]
    }
  ]
}