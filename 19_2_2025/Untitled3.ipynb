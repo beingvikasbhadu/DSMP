{
  "nbformat": 4,
  "nbformat_minor": 0,
  "metadata": {
    "colab": {
      "provenance": []
    },
    "kernelspec": {
      "name": "python3",
      "display_name": "Python 3"
    },
    "language_info": {
      "name": "python"
    }
  },
  "cells": [
    {
      "cell_type": "code",
      "source": [
        "!pip install nlpcloud"
      ],
      "metadata": {
        "colab": {
          "base_uri": "https://localhost:8080/"
        },
        "id": "f4baNqWLQd5_",
        "outputId": "b8039d09-5662-4a9b-bf5e-264e3c45f336"
      },
      "execution_count": 1,
      "outputs": [
        {
          "output_type": "stream",
          "name": "stdout",
          "text": [
            "Collecting nlpcloud\n",
            "  Downloading nlpcloud-1.1.47-py3-none-any.whl.metadata (1.1 kB)\n",
            "Requirement already satisfied: requests in /usr/local/lib/python3.11/dist-packages (from nlpcloud) (2.32.3)\n",
            "Requirement already satisfied: charset-normalizer<4,>=2 in /usr/local/lib/python3.11/dist-packages (from requests->nlpcloud) (3.4.1)\n",
            "Requirement already satisfied: idna<4,>=2.5 in /usr/local/lib/python3.11/dist-packages (from requests->nlpcloud) (3.10)\n",
            "Requirement already satisfied: urllib3<3,>=1.21.1 in /usr/local/lib/python3.11/dist-packages (from requests->nlpcloud) (2.3.0)\n",
            "Requirement already satisfied: certifi>=2017.4.17 in /usr/local/lib/python3.11/dist-packages (from requests->nlpcloud) (2025.1.31)\n",
            "Downloading nlpcloud-1.1.47-py3-none-any.whl (3.9 kB)\n",
            "Installing collected packages: nlpcloud\n",
            "Successfully installed nlpcloud-1.1.47\n"
          ]
        }
      ]
    },
    {
      "cell_type": "code",
      "source": [
        "#Register on nlp cloud site and get your api key and enjoy!\n",
        "import nlpcloud"
      ],
      "metadata": {
        "colab": {
          "base_uri": "https://localhost:8080/"
        },
        "id": "uawLviSjQoi8",
        "outputId": "361e4253-9cbc-4d5d-c730-418be6c382e7"
      },
      "execution_count": 4,
      "outputs": [
        {
          "output_type": "execute_result",
          "data": {
            "text/plain": [
              "{'answer': 'Yes, India has won the ICC Cricket World Cup twice. The first victory was in 1983 when India defeated the West Indies in the final. The second victory came in 2011 when India won against Sri Lanka in the final.',\n",
              " 'score': 1,\n",
              " 'start': 0,\n",
              " 'end': 0}"
            ]
          },
          "metadata": {},
          "execution_count": 4
        }
      ]
    },
    {
      "cell_type": "code",
      "execution_count": 30,
      "metadata": {
        "id": "V6ICvzqTL0ek"
      },
      "outputs": [],
      "source": [
        "class NlpApp:\n",
        "  def __init__(self):\n",
        "    #key: email\n",
        "    #value: [name, password]\n",
        "    self.__database={}\n",
        "    self.__client=nlpcloud.Client(\"finetuned-llama-3-70b\", \"API_KEY\", gpu=True)\n",
        "    self.__first_menu()\n",
        "\n",
        "\n",
        "  def __first_menu(self):\n",
        "    value=input(\"\"\"\n",
        "    Hi, How are you!\n",
        "    1. Are you registered? Register\n",
        "    2. Already registered? Login\n",
        "    3. Exit\n",
        "    \"\"\")\n",
        "\n",
        "    if value=='1':\n",
        "      self.__register()\n",
        "    elif value=='2':\n",
        "      self.__login()\n",
        "    else:\n",
        "      exit()\n",
        "\n",
        "\n",
        "\n",
        "  def __register(self):\n",
        "    name=input(\"Enter name\")\n",
        "    email=input(\"Enter email\")\n",
        "    password=input(\"Enter password\")\n",
        "\n",
        "    if email in self.__database:\n",
        "      print(\"This email is already registered, You can login\")\n",
        "      self.__first_menu()\n",
        "    else:\n",
        "      self.__database[email]=[name,password]\n",
        "      print(\"Now you are registered, you can login now\")\n",
        "      self.__first_menu()\n",
        "\n",
        "  def __login(self):\n",
        "    email=input(\"Enter email\")\n",
        "    password=input(\"Enter password\")\n",
        "\n",
        "    if email in self.__database:\n",
        "      if password==self.__database[email][1]:\n",
        "        print(\"Loged in  Successfully!\")\n",
        "        self.__second_menu()\n",
        "      else:\n",
        "        print(\"Wrong password, Try again\")\n",
        "        self.__login()\n",
        "    else:\n",
        "      print(\"This email id is not registered, you should register first\")\n",
        "      self.__first_menu()\n",
        "\n",
        "  def __second_menu(self):\n",
        "    value=input(\"\"\"\n",
        "    1. Question Answering\n",
        "    2. Sentiment Analysis\n",
        "    3. Logout\n",
        "    \"\"\")\n",
        "    if value=='1':\n",
        "      self.__question_answering()\n",
        "    elif value=='2':\n",
        "      self.__sentiment_analysis()\n",
        "    else:\n",
        "      self.__logout()\n",
        "\n",
        "  def __question_answering(self):\n",
        "    q=input(\"Enter question\")\n",
        "    c=input(\"Enter context\")\n",
        "    response=self.__client.question(\n",
        "    question=q,\n",
        "    context=c\n",
        ")\n",
        "    print(response['answer'])\n",
        "    self.__second_menu()\n",
        "\n",
        "  def __sentiment_analysis(self):\n",
        "    para=input(\"Enter statement - \")\n",
        "    response=self.__client.sentiment(\n",
        "     para,\n",
        "      target=\"NLP Cloud\"\n",
        "  )\n",
        "    print(response['scored_labels'][1]['label'])\n",
        "    self.__second_menu()\n",
        "\n",
        "  def __logout(self):\n",
        "    print(\"Succesfully loged Out!\")\n",
        "    self.__first_menu()\n",
        "\n",
        "\n",
        "\n",
        ""
      ]
    },
    {
      "cell_type": "code",
      "source": [
        "app=NlpApp()"
      ],
      "metadata": {
        "colab": {
          "base_uri": "https://localhost:8080/"
        },
        "id": "OcL4CgWMVcsi",
        "outputId": "dffcb4a1-16f3-4f56-d8f3-eff6868fac4b"
      },
      "execution_count": null,
      "outputs": [
        {
          "output_type": "stream",
          "name": "stdout",
          "text": [
            "\n",
            "    Hi, How are you!\n",
            "    1. Are you registered? Register\n",
            "    2. Already registered? Login\n",
            "    3. Exit\n",
            "    1\n",
            "Enter namevikas\n",
            "Enter emailvikas@gmail.com\n",
            "Enter password1234\n",
            "Now you are registered, you can login now\n",
            "\n",
            "    Hi, How are you!\n",
            "    1. Are you registered? Register\n",
            "    2. Already registered? Login\n",
            "    3. Exit\n",
            "    2\n",
            "Enter emailvikas@gmail.com\n",
            "Enter password1234\n",
            "Loged in  Successfully!\n",
            "\n",
            "    1. Question Answering\n",
            "    2. Sentiment Analysis\n",
            "    3. Logout \n",
            "    1\n",
            "Enter questionhow many countries on earth\n",
            "Enter context\n",
            "As of October 2023, there are 195 countries in the world. This total includes 193 member states of the United Nations and 2 observer states: the Holy See and Palestine.\n",
            "\n",
            "    1. Question Answering\n",
            "    2. Sentiment Analysis\n",
            "    3. Logout \n",
            "    2\n",
            "Enter statement - i am decent and having a good life\n",
            "joy\n",
            "\n",
            "    1. Question Answering\n",
            "    2. Sentiment Analysis\n",
            "    3. Logout \n",
            "    2\n",
            "Enter statement - I am happy but sometimes i get sad when i did not get that thing do you understanding what i mean\n",
            "sadness\n",
            "\n",
            "    1. Question Answering\n",
            "    2. Sentiment Analysis\n",
            "    3. Logout \n",
            "    3\n",
            "Succesfully loged Out!\n"
          ]
        }
      ]
    },
    {
      "cell_type": "code",
      "source": [],
      "metadata": {
        "id": "47-53uVZVgHA"
      },
      "execution_count": null,
      "outputs": []
    }
  ]
}