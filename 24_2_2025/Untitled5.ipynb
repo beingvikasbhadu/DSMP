{
  "nbformat": 4,
  "nbformat_minor": 0,
  "metadata": {
    "colab": {
      "provenance": [],
      "gpuType": "T4"
    },
    "kernelspec": {
      "name": "python3",
      "display_name": "Python 3"
    },
    "language_info": {
      "name": "python"
    },
    "accelerator": "GPU"
  },
  "cells": [
    {
      "cell_type": "code",
      "execution_count": null,
      "metadata": {
        "colab": {
          "base_uri": "https://localhost:8080/"
        },
        "id": "SshKbP2jle9b",
        "outputId": "afedbeb2-b620-47f1-f6e0-1e28e1b1735e"
      },
      "outputs": [
        {
          "output_type": "execute_result",
          "data": {
            "text/plain": [
              "(2, 4)"
            ]
          },
          "metadata": {},
          "execution_count": 4
        }
      ],
      "source": [
        "#Q1:\n",
        "def breakingRecords(n,scores):\n",
        "  count_max=0\n",
        "  max=-1\n",
        "  count_min=0\n",
        "  min=10**8+1\n",
        "  for score in scores:\n",
        "    if max<score:\n",
        "      max=score\n",
        "      count_max+=1\n",
        "\n",
        "    if min>score:\n",
        "      min=score\n",
        "      count_min+=1\n",
        "  return (count_max-1,count_min-1)\n",
        "\n",
        "\n",
        "breakingRecords(9,[10, 5, 20, 20, 4, 5, 2, 25, 1])"
      ]
    },
    {
      "cell_type": "code",
      "source": [
        "class StudentManagement:\n",
        "   def __init__(self):\n",
        "    self.__students={}\n",
        "    self.__menu()\n",
        "\n",
        "   def __accept(self,name,rollno,marks):\n",
        "      self.__students[rollno]={'name':name,'marks1':marks[0],'marks2':marks[1]}\n",
        "\n",
        "\n",
        "   def __display(self):\n",
        "    print(\"List of Students:\")\n",
        "    for rollno,student in self.__students.items():\n",
        "      print(\"\"\"\n",
        "      Name: {}\n",
        "      RollNo: {}\n",
        "      Marks1: {}\n",
        "      Marks2: {}\n",
        "      \"\"\".format(student['name'],rollno,student['marks1'],student['marks2']))\n",
        "\n",
        "\n",
        "   def __search(self,rollno):\n",
        "    if rollno in self.__students:\n",
        "      print(\"Student Found\")\n",
        "      print(\"\"\"\n",
        "      Name: {}\n",
        "      RollNo: {}\n",
        "      Marks1: {}\n",
        "      Marks2: {}\n",
        "      \"\"\".format(self.__students[rollno]['name'],rollno,self.__students[rollno]['marks1'],self.__students[rollno]['marks2']))\n",
        "      return True\n",
        "    else:\n",
        "      print(\"Student not found!!\")\n",
        "      return False\n",
        "\n",
        "\n",
        "   def __delete(self,rollno):\n",
        "     if  self.__search(rollno):\n",
        "       del self.__students[rollno]\n",
        "       print(\"Student deleted!\")\n",
        "\n",
        "\n",
        "\n",
        "\n",
        "   def __update(self,old_rollno,new_rollno):\n",
        "     if not self.__search(old_rollno):\n",
        "      self.__students[new_rollno]=self.__students.pop(old_rollno)\n",
        "\n",
        "\n",
        "   def __menu(self):\n",
        "    while True:\n",
        "      option=input(\"\"\"\n",
        "      Choose one option:\n",
        "      1.Accept Student details\n",
        "      2.Display Student Details\n",
        "      3.Search Details of a Student\n",
        "      4.Delete Details of Student\n",
        "      5.Update Student Details\n",
        "      6.Exit\n",
        "      \"\"\")\n",
        "\n",
        "      if option=='1':\n",
        "        name=input(\"enter name\")\n",
        "        rollno=input(\"enter rollno\")\n",
        "        marks1=int(input('enter marks1'))\n",
        "        marks2=int(input('enter marks2'))\n",
        "        marks=[marks1,marks2]\n",
        "        self.__accept(name,rollno,marks)\n",
        "      elif option=='2':\n",
        "        self.__display()\n",
        "      elif option=='3':\n",
        "        rollno=input(\"enter rollno\")\n",
        "        self.__search(rollno)\n",
        "      elif option=='4':\n",
        "        rollno=input(\"enter rollno\")\n",
        "        self.__delete(rollno)\n",
        "      elif option=='5':\n",
        "        old_rollno=input('enter previous roll no')\n",
        "        new_rollno=input('enter new roll no')\n",
        "        self.__update(old_rollno,new_rollno)\n",
        "      else:\n",
        "        break\n",
        "\n",
        "\n",
        "s=StudentManagement()"
      ],
      "metadata": {
        "id": "_03Q6lCglomj"
      },
      "execution_count": null,
      "outputs": []
    },
    {
      "cell_type": "code",
      "source": [
        "#Q4\n",
        "n=int(input(\"enter the number of elements\"))\n",
        "l=[int(input(\"enter value\")) for _ in range(n)]\n",
        "count_even=0\n",
        "count_odd=0\n",
        "for e in l:\n",
        "  if e%2:\n",
        "    count_odd+=1\n",
        "  else:\n",
        "    count_even+=1\n",
        "\n",
        "print(\"Even:\",count_even)\n",
        "print(\"Odd:\",count_odd)\n",
        "\n"
      ],
      "metadata": {
        "id": "QlWCDnFHsxlB",
        "colab": {
          "base_uri": "https://localhost:8080/"
        },
        "outputId": "af9a373a-60b3-4746-ed48-f6d6f6689127"
      },
      "execution_count": null,
      "outputs": [
        {
          "output_type": "stream",
          "name": "stdout",
          "text": [
            "enter the number of elements5\n",
            "enter value1\n",
            "enter value2\n",
            "enter value3\n",
            "enter value4\n",
            "enter value5\n",
            "Even: 2\n",
            "Odd: 3\n"
          ]
        }
      ]
    },
    {
      "cell_type": "code",
      "source": [
        "#Q5\n",
        "size=int(input(\"Enter size:\"))\n",
        "a=1+(size-1)*2\n",
        "row_len=a+a-1\n"
      ],
      "metadata": {
        "colab": {
          "base_uri": "https://localhost:8080/"
        },
        "id": "aCKFs5Top9TN",
        "outputId": "649c423e-b138-4c80-b480-8fa844e9da8c"
      },
      "execution_count": null,
      "outputs": [
        {
          "name": "stdout",
          "output_type": "stream",
          "text": [
            "Enter size:10\n"
          ]
        }
      ]
    },
    {
      "cell_type": "code",
      "source": [
        "ascii_value=96\n",
        "\n",
        "\n",
        "original=chr(ascii_value+size)\n",
        "output_stream=[]\n",
        "for e in range(size):\n",
        "  l=['-' for _ in range(row_len)]\n",
        "  ch=chr(ord(original)-e)\n",
        "  left=0\n",
        "  for _ in range(e+1):\n",
        "    chL=chr(ord(ch)-int(left/2))\n",
        "    l[int(row_len/2)+left]=chL\n",
        "    left-=2\n",
        "\n",
        "  right=0\n",
        "  for _ in range(e+1):\n",
        "    chR=chr(ord(ch)+int(right/2))\n",
        "    l[int(row_len/2)+right]=chR\n",
        "    right+=2\n",
        "  output_stream.append(l)\n",
        "\n",
        "\n",
        "def print_list(l,index):\n",
        "  for e in l[index]:\n",
        "    print(e,sep=\"\",end=\"\")\n",
        "  print(\"\\n\")\n",
        "\n",
        "for e in range(size):\n",
        "     print_list(output_stream,e)\n",
        "\n",
        "for i in range(1,size):\n",
        "   print_list(output_stream,size-i-1)\n",
        "\n"
      ],
      "metadata": {
        "colab": {
          "base_uri": "https://localhost:8080/"
        },
        "id": "TfgnRogv5jos",
        "outputId": "cf56dc65-ebeb-4263-89c6-b01a2e795d79"
      },
      "execution_count": null,
      "outputs": [
        {
          "output_type": "stream",
          "name": "stdout",
          "text": [
            "------------------j------------------\n",
            "\n",
            "----------------j-i-j----------------\n",
            "\n",
            "--------------j-i-h-i-j--------------\n",
            "\n",
            "------------j-i-h-g-h-i-j------------\n",
            "\n",
            "----------j-i-h-g-f-g-h-i-j----------\n",
            "\n",
            "--------j-i-h-g-f-e-f-g-h-i-j--------\n",
            "\n",
            "------j-i-h-g-f-e-d-e-f-g-h-i-j------\n",
            "\n",
            "----j-i-h-g-f-e-d-c-d-e-f-g-h-i-j----\n",
            "\n",
            "--j-i-h-g-f-e-d-c-b-c-d-e-f-g-h-i-j--\n",
            "\n",
            "j-i-h-g-f-e-d-c-b-a-b-c-d-e-f-g-h-i-j\n",
            "\n",
            "--j-i-h-g-f-e-d-c-b-c-d-e-f-g-h-i-j--\n",
            "\n",
            "----j-i-h-g-f-e-d-c-d-e-f-g-h-i-j----\n",
            "\n",
            "------j-i-h-g-f-e-d-e-f-g-h-i-j------\n",
            "\n",
            "--------j-i-h-g-f-e-f-g-h-i-j--------\n",
            "\n",
            "----------j-i-h-g-f-g-h-i-j----------\n",
            "\n",
            "------------j-i-h-g-h-i-j------------\n",
            "\n",
            "--------------j-i-h-i-j--------------\n",
            "\n",
            "----------------j-i-j----------------\n",
            "\n",
            "------------------j------------------\n",
            "\n"
          ]
        }
      ]
    },
    {
      "cell_type": "code",
      "source": [
        "#Q6\n",
        "s=input(\"Enter String\")\n",
        "\n",
        "length=len(s)\n",
        "index=0\n",
        "\n",
        "while index<length:\n",
        "  curr=s[index]\n",
        "  count=0\n",
        "  while index<length and curr==s[index]:\n",
        "    index+=1\n",
        "    count+=1\n",
        "  print(\"({}, {})\".format(count,curr),end=\" \")"
      ],
      "metadata": {
        "colab": {
          "base_uri": "https://localhost:8080/"
        },
        "id": "rHmNHuQf6cB3",
        "outputId": "cabb8e74-aebd-4856-d139-c180020f5c30"
      },
      "execution_count": null,
      "outputs": [
        {
          "output_type": "stream",
          "name": "stdout",
          "text": [
            "Enter String1222311\n",
            "(1, 1) (3, 2) (1, 3) (2, 1) "
          ]
        }
      ]
    },
    {
      "cell_type": "code",
      "source": [
        "d={}\n",
        "d['a']=d['a']+1"
      ],
      "metadata": {
        "colab": {
          "base_uri": "https://localhost:8080/",
          "height": 163
        },
        "id": "CFjoQHnB2AcB",
        "outputId": "10005f53-7978-433c-c22b-d66975264c38"
      },
      "execution_count": null,
      "outputs": [
        {
          "output_type": "error",
          "ename": "KeyError",
          "evalue": "'a'",
          "traceback": [
            "\u001b[0;31m---------------------------------------------------------------------------\u001b[0m",
            "\u001b[0;31mKeyError\u001b[0m                                  Traceback (most recent call last)",
            "\u001b[0;32m<ipython-input-42-54cc5b004c5a>\u001b[0m in \u001b[0;36m<cell line: 0>\u001b[0;34m()\u001b[0m\n\u001b[1;32m      1\u001b[0m \u001b[0md\u001b[0m\u001b[0;34m=\u001b[0m\u001b[0;34m{\u001b[0m\u001b[0;34m}\u001b[0m\u001b[0;34m\u001b[0m\u001b[0;34m\u001b[0m\u001b[0m\n\u001b[0;32m----> 2\u001b[0;31m \u001b[0md\u001b[0m\u001b[0;34m[\u001b[0m\u001b[0;34m'a'\u001b[0m\u001b[0;34m]\u001b[0m\u001b[0;34m=\u001b[0m\u001b[0md\u001b[0m\u001b[0;34m[\u001b[0m\u001b[0;34m'a'\u001b[0m\u001b[0;34m]\u001b[0m\u001b[0;34m+\u001b[0m\u001b[0;36m1\u001b[0m\u001b[0;34m\u001b[0m\u001b[0;34m\u001b[0m\u001b[0m\n\u001b[0m",
            "\u001b[0;31mKeyError\u001b[0m: 'a'"
          ]
        }
      ]
    },
    {
      "cell_type": "code",
      "source": [
        "#Q7\n",
        "n=int(input(\"Number of words\"))\n",
        "words=[input(\"Enter the word\") for _ in range(n)]\n",
        "\n",
        "d={}\n",
        "\n",
        "for word in words:\n",
        "  try:\n",
        "     d[word]+=1\n",
        "  except KeyError:\n",
        "    d[word]=1\n",
        "\n",
        "for value in d.values():\n",
        "  print(value,end=\" \")"
      ],
      "metadata": {
        "colab": {
          "base_uri": "https://localhost:8080/"
        },
        "id": "__ie9FhyvyIO",
        "outputId": "bfe4d1be-a632-4551-eab2-2244e8048b16"
      },
      "execution_count": null,
      "outputs": [
        {
          "output_type": "stream",
          "name": "stdout",
          "text": [
            "Number of words4\n",
            "Enter the wordbcdef\n",
            "Enter the wordabcdefg\n",
            "Enter the wordbcde\n",
            "Enter the wordbcdef\n",
            "2 1 1 "
          ]
        }
      ]
    },
    {
      "cell_type": "code",
      "source": [
        "#Q8\n",
        "def nCr(n,r):\n",
        "  # boundary condition\n",
        "  if r>n:\n",
        "    return 0\n",
        "\n",
        "  val1=1\n",
        "  for e in range(r):\n",
        "    val1*=(n-e)\n",
        "\n",
        "  val2=1\n",
        "\n",
        "  for e in range(1,r+1):\n",
        "    val2*=e\n",
        "  return val1/val2\n",
        "\n",
        "\n",
        "\n",
        "n=int(input(\"Number of characters\"))\n",
        "\n",
        "l=[input(\"enter character\") for _ in range(n)]\n",
        "\n",
        "k=int(input(\"Number of indices to be selected\"))\n",
        "\n",
        "\n",
        "\n",
        "total_case=nCr(n,k)\n",
        "\n",
        "count_a=0\n",
        "for e in l:\n",
        "  if e=='a':\n",
        "    count_a+=1\n",
        "\n",
        "# now find total_accepted case\n",
        "accepted_case=0\n",
        "\n",
        "i=1\n",
        "while i<=count_a and k-1<=n-i:\n",
        "  accepted_case+=nCr(n-i,k-1)\n",
        "  i+=1\n",
        "\n",
        "# print(\"Total case:\",total_case)\n",
        "# print(\"Accepted case:\",accepted_case)\n",
        "\n",
        "print(accepted_case/total_case)\n",
        "\n",
        "\n",
        "\n"
      ],
      "metadata": {
        "colab": {
          "base_uri": "https://localhost:8080/"
        },
        "id": "q_ZdfxVO2Rnn",
        "outputId": "292e292c-2f7e-4869-a012-6bb7d65adba1"
      },
      "execution_count": 5,
      "outputs": [
        {
          "output_type": "stream",
          "name": "stdout",
          "text": [
            "Number of characters4\n",
            "enter charactera\n",
            "enter charactera\n",
            "enter characterc\n",
            "enter characterd\n",
            "Number of indices to be selected2\n",
            "0.8333333333333334\n"
          ]
        }
      ]
    },
    {
      "cell_type": "code",
      "source": [
        "nCr(5,5)"
      ],
      "metadata": {
        "colab": {
          "base_uri": "https://localhost:8080/"
        },
        "id": "CBK43RPdIh3d",
        "outputId": "0ee02fb0-572f-405f-a987-8e29edc175df"
      },
      "execution_count": 2,
      "outputs": [
        {
          "output_type": "execute_result",
          "data": {
            "text/plain": [
              "1.0"
            ]
          },
          "metadata": {},
          "execution_count": 2
        }
      ]
    },
    {
      "cell_type": "code",
      "source": [
        "#Q9\n",
        "def find_captain(l):\n",
        "  d={}\n",
        "  for e in l:\n",
        "    try:\n",
        "      d[e]+=1\n",
        "    except KeyError:\n",
        "      d[e]=1\n",
        "\n",
        "  for key,value in d.items():\n",
        "    if value==1:\n",
        "      print(\"Captain is:\",key)\n",
        "\n",
        "def menu():\n",
        "  while True:\n",
        "    option=input(\"\"\"\n",
        "    1. Make A  Entry\n",
        "    2. Find Captain\n",
        "    3. Exit()\n",
        "    \"\"\")\n",
        "    if option=='1':\n",
        "      l.append(int(input()))\n",
        "    elif option=='2':\n",
        "      find_captain(l)\n",
        "    else:\n",
        "      exit()\n",
        "k=int(input(\"value of K\"))\n",
        "# l=[1, 2, 3, 6, 5, 4, 4, 2, 5, 3, 6, 1, 6, 5, 3, 2, 4, 1, 2, 5, 1, 4, 3, 6, 8, 4, 3, 1, 5, 6, 2]\n",
        "# find_captain(l)\n",
        "l=[]\n",
        "menu(l)\n",
        "\n",
        "\n",
        "\n"
      ],
      "metadata": {
        "colab": {
          "base_uri": "https://localhost:8080/"
        },
        "id": "jo6RF7Wc31U9",
        "outputId": "a9d7cf1f-7c83-44d5-d445-b11384274f46"
      },
      "execution_count": null,
      "outputs": [
        {
          "output_type": "stream",
          "name": "stdout",
          "text": [
            "value of K5\n",
            "Captain is: 8\n"
          ]
        }
      ]
    },
    {
      "cell_type": "code",
      "source": [
        "#Q10\n"
      ],
      "metadata": {
        "id": "HS4w__ZF_bvz"
      },
      "execution_count": null,
      "outputs": []
    }
  ]
}