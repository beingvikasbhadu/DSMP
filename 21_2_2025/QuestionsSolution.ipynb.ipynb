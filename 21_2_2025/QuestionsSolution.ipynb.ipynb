{
  "nbformat": 4,
  "nbformat_minor": 0,
  "metadata": {
    "colab": {
      "provenance": []
    },
    "kernelspec": {
      "name": "python3",
      "display_name": "Python 3"
    },
    "language_info": {
      "name": "python"
    }
  },
  "cells": [
    {
      "cell_type": "code",
      "execution_count": 4,
      "metadata": {
        "colab": {
          "base_uri": "https://localhost:8080/"
        },
        "id": "SshKbP2jle9b",
        "outputId": "afedbeb2-b620-47f1-f6e0-1e28e1b1735e"
      },
      "outputs": [
        {
          "output_type": "execute_result",
          "data": {
            "text/plain": [
              "(2, 4)"
            ]
          },
          "metadata": {},
          "execution_count": 4
        }
      ],
      "source": [
        "#Q1:\n",
        "def breakingRecords(n,scores):\n",
        "  count_max=0\n",
        "  max=-1\n",
        "  count_min=0\n",
        "  min=10**8+1\n",
        "  for score in scores:\n",
        "    if max<score:\n",
        "      max=score\n",
        "      count_max+=1\n",
        "\n",
        "    if min>score:\n",
        "      min=score\n",
        "      count_min+=1\n",
        "  return (count_max-1,count_min-1)\n",
        "\n",
        "\n",
        "breakingRecords(9,[10, 5, 20, 20, 4, 5, 2, 25, 1])"
      ]
    },
    {
      "cell_type": "code",
      "source": [
        "class StudentManagement:\n",
        "   def __init__(self):\n",
        "    self.__students={}\n",
        "    self.__menu()\n",
        "\n",
        "   def __accept(self,name,rollno,marks):\n",
        "      self.__students[rollno]={'name':name,'marks1':marks[0],'marks2':marks[1]}\n",
        "\n",
        "\n",
        "   def __display(self):\n",
        "    print(\"List of Students:\")\n",
        "    for rollno,student in self.__students.items():\n",
        "      print(\"\"\"\n",
        "      Name: {}\n",
        "      RollNo: {}\n",
        "      Marks1: {}\n",
        "      Marks2: {}\n",
        "      \"\"\".format(student['name'],rollno,student['marks1'],student['marks2']))\n",
        "\n",
        "\n",
        "   def __search(self,rollno):\n",
        "    if rollno in self.__students:\n",
        "      print(\"Student Found\")\n",
        "      print(\"\"\"\n",
        "      Name: {}\n",
        "      RollNo: {}\n",
        "      Marks1: {}\n",
        "      Marks2: {}\n",
        "      \"\"\".format(self.__students[rollno]['name'],rollno,self.__students[rollno]['marks1'],self.__students[rollno]['marks2']))\n",
        "      return True\n",
        "    else:\n",
        "      print(\"Student not found!!\")\n",
        "      return False\n",
        "\n",
        "\n",
        "   def __delete(self,rollno):\n",
        "     if  self.__search(rollno):\n",
        "       del self.__students[rollno]\n",
        "       print(\"Student deleted!\")\n",
        "\n",
        "\n",
        "\n",
        "\n",
        "   def __update(self,old_rollno,new_rollno):\n",
        "     if not self.__search(old_rollno):\n",
        "      self.__students[new_rollno]=self.__students.pop(old_rollno)\n",
        "\n",
        "\n",
        "   def __menu(self):\n",
        "    while True:\n",
        "      option=input(\"\"\"\n",
        "      Choose one option:\n",
        "      1.Accept Student details\n",
        "      2.Display Student Details\n",
        "      3.Search Details of a Student\n",
        "      4.Delete Details of Student\n",
        "      5.Update Student Details\n",
        "      6.Exit\n",
        "      \"\"\")\n",
        "\n",
        "      if option=='1':\n",
        "        name=input(\"enter name\")\n",
        "        rollno=input(\"enter rollno\")\n",
        "        marks1=int(input('enter marks1'))\n",
        "        marks2=int(input('enter marks2'))\n",
        "        marks=[marks1,marks2]\n",
        "        self.__accept(name,rollno,marks)\n",
        "      elif option=='2':\n",
        "        self.__display()\n",
        "      elif option=='3':\n",
        "        rollno=input(\"enter rollno\")\n",
        "        self.__search(rollno)\n",
        "      elif option=='4':\n",
        "        rollno=input(\"enter rollno\")\n",
        "        self.__delete(rollno)\n",
        "      elif option=='5':\n",
        "        old_rollno=input('enter previous roll no')\n",
        "        new_rollno=input('enter new roll no')\n",
        "        self.__update(old_rollno,new_rollno)\n",
        "      else:\n",
        "        break\n",
        "\n",
        "\n",
        "s=StudentManagement()"
      ],
      "metadata": {
        "id": "_03Q6lCglomj"
      },
      "execution_count": null,
      "outputs": []
    },
    {
      "cell_type": "code",
      "source": [
        "1"
      ],
      "metadata": {
        "id": "QlWCDnFHsxlB"
      },
      "execution_count": null,
      "outputs": []
    }
  ]
}