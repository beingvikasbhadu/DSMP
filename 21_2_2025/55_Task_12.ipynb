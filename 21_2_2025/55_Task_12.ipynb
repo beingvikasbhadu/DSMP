{
  "nbformat": 4,
  "nbformat_minor": 0,
  "metadata": {
    "colab": {
      "provenance": [],
      "gpuType": "V28"
    },
    "kernelspec": {
      "name": "python3",
      "display_name": "Python 3"
    },
    "language_info": {
      "name": "python"
    },
    "accelerator": "TPU"
  },
  "cells": [
    {
      "cell_type": "markdown",
      "source": [
        "## Namespace and Scope"
      ],
      "metadata": {
        "id": "hM8V4LxHKV6x"
      }
    },
    {
      "cell_type": "markdown",
      "source": [
        "###`Q1:` Write `Person` Class as given below and then display it's namespace.\n",
        "\n"
      ],
      "metadata": {
        "id": "Kl3s2TonKYgY"
      }
    },
    {
      "cell_type": "markdown",
      "source": [
        "```\n",
        "Class Name - Person\n",
        "\n",
        "Attributes:\n",
        "name - public\n",
        "state - public\n",
        "city - private\n",
        "age - private\n",
        "\n",
        "Methods:\n",
        "address - public\n",
        "It give address of the person as \"<name>, <city>, <state>\"\n",
        "```"
      ],
      "metadata": {
        "id": "grudG97hL83C"
      }
    },
    {
      "cell_type": "code",
      "source": [
        "#Write your code here\n",
        "class Person:\n",
        "  def __init__(self,name,state,city,age):\n",
        "    self.__name=name\n",
        "    self.__state=state\n",
        "    self.__city=city\n",
        "    self.__age=age\n",
        "\n",
        "  def address(self):\n",
        "    return \"{}, {}, {}\".format(self.__name,self.__city,self.__state)\n",
        "\n",
        "p=Person(\"Vikas\",\"Jodhpur\",\"Rajasthan\",22)\n",
        "p.address()"
      ],
      "metadata": {
        "id": "BRq-I4jmKX0U",
        "colab": {
          "base_uri": "https://localhost:8080/",
          "height": 36
        },
        "outputId": "7acd8594-889a-4ee1-9f09-3cbf79012b4c"
      },
      "execution_count": 2,
      "outputs": [
        {
          "output_type": "execute_result",
          "data": {
            "text/plain": [
              "'Vikas, Rajasthan, Jodhpur'"
            ],
            "application/vnd.google.colaboratory.intrinsic+json": {
              "type": "string"
            }
          },
          "metadata": {},
          "execution_count": 2
        }
      ]
    },
    {
      "cell_type": "markdown",
      "source": [
        "###`Q2:` Write a program to show namespace of object/instance of above(Person) class."
      ],
      "metadata": {
        "id": "NLtOPOXDL_zB"
      }
    },
    {
      "cell_type": "code",
      "source": [
        "# Write your code here\n",
        "dir(p)"
      ],
      "metadata": {
        "id": "w3fj9tf0MJ3Z",
        "colab": {
          "base_uri": "https://localhost:8080/"
        },
        "outputId": "ce5870b2-96e1-49cb-8c31-1a601cd22e8b"
      },
      "execution_count": 4,
      "outputs": [
        {
          "output_type": "execute_result",
          "data": {
            "text/plain": [
              "['_Person__age',\n",
              " '_Person__city',\n",
              " '_Person__name',\n",
              " '_Person__state',\n",
              " '__class__',\n",
              " '__delattr__',\n",
              " '__dict__',\n",
              " '__dir__',\n",
              " '__doc__',\n",
              " '__eq__',\n",
              " '__format__',\n",
              " '__ge__',\n",
              " '__getattribute__',\n",
              " '__getstate__',\n",
              " '__gt__',\n",
              " '__hash__',\n",
              " '__init__',\n",
              " '__init_subclass__',\n",
              " '__le__',\n",
              " '__lt__',\n",
              " '__module__',\n",
              " '__ne__',\n",
              " '__new__',\n",
              " '__reduce__',\n",
              " '__reduce_ex__',\n",
              " '__repr__',\n",
              " '__setattr__',\n",
              " '__sizeof__',\n",
              " '__str__',\n",
              " '__subclasshook__',\n",
              " '__weakref__',\n",
              " 'address']"
            ]
          },
          "metadata": {},
          "execution_count": 4
        }
      ]
    },
    {
      "cell_type": "markdown",
      "source": [
        "###`Q3:` Write a recursive program to to calculate `gcd` and print no. of function calls taken to find the solution.\n",
        "```\n",
        "gcd(5,10) -> result in 5 as gcd and function call 4\n",
        "```"
      ],
      "metadata": {
        "id": "rRnCZmlUY8sn"
      }
    },
    {
      "cell_type": "code",
      "source": [
        "#Write your code here\n",
        "def gcd(a,b):\n",
        "  if a<b:\n",
        "    c=a\n",
        "    a=b\n",
        "    b=c\n",
        "  if a%b==0:\n",
        "    #(Number of call, gcd value)\n",
        "    return (1,b)\n",
        "  else:\n",
        "    t=gcd(b,a%b)\n",
        "    return (t[0]+1,t[1])\n",
        "\n",
        "print(gcd(5,10))\n",
        "print(gcd(17,11))"
      ],
      "metadata": {
        "id": "jYiVzxhUZRln",
        "colab": {
          "base_uri": "https://localhost:8080/"
        },
        "outputId": "d2440db7-0801-41cc-c9e4-698ce75a2ee9"
      },
      "execution_count": 7,
      "outputs": [
        {
          "output_type": "stream",
          "name": "stdout",
          "text": [
            "(1, 5)\n",
            "(4, 1)\n"
          ]
        }
      ]
    },
    {
      "cell_type": "markdown",
      "source": [
        "## Itterator And Generator"
      ],
      "metadata": {
        "id": "FbDepR9QNGnh"
      }
    },
    {
      "cell_type": "markdown",
      "source": [
        "###`Q4:` Create MyEnumerate class,\n",
        "Create your own `MyEnumerate` class such that someone can use it instead of enumerate. It will need to return a `tuple` with each iteration, with the first element in the tuple being the `index` (starting with 0) and the second element being the `current element` from the underlying data structure. Trying to use `MyEnumerate` with a noniterable argument will result in an error.\n",
        "\n",
        "```\n",
        "for index, letter in MyEnumerate('abc'):\n",
        "    print(f'{index} : {letter}')\n",
        "```\n",
        "\n",
        "Output:\n",
        "```\n",
        "0 : a\n",
        "1 : b\n",
        "2 : c\n",
        "```"
      ],
      "metadata": {
        "id": "Nj5WaR_4NJTu"
      }
    },
    {
      "cell_type": "code",
      "source": [
        "#Write your code here\n",
        "class MyEnumerate:\n",
        "  def __init__(self,data):\n",
        "     self.__data=data\n",
        "\n",
        "  def __iter__(self):\n",
        "    i=0\n",
        "    for e in self.__data:\n",
        "      yield (i,e)\n",
        "      i+=1\n",
        "\n",
        "\n",
        "m=MyEnumerate('abc')\n",
        "# print(m.__getitem__())\n",
        "\n",
        "for e in m:\n",
        "  print(e)"
      ],
      "metadata": {
        "id": "6zjcm2gxNbfJ",
        "colab": {
          "base_uri": "https://localhost:8080/"
        },
        "outputId": "b78490a5-8c6d-4258-aae0-4113f8b52da8"
      },
      "execution_count": 8,
      "outputs": [
        {
          "output_type": "stream",
          "name": "stdout",
          "text": [
            "(0, 'a')\n",
            "(1, 'b')\n",
            "(2, 'c')\n"
          ]
        }
      ]
    },
    {
      "cell_type": "markdown",
      "source": [
        "###`Q5:` Iterate in circle\n",
        "Define a class, `Circle`, that takes two arguments when defined: a sequence and a number. The idea is that the object will then return elements the defined number of times. If the number is greater than the number of elements, then the sequence  repeats as necessary. You can define an another class used as a helper (like I call `CircleIterator`).\n",
        "\n",
        "```\n",
        "c = Circle('abc', 5)\n",
        "d = Circle('abc', 7)\n",
        "print(list(c))\n",
        "print(list(d))\n",
        "```\n",
        "\n",
        "Output\n",
        "```\n",
        "[a, b, c, a, b]\n",
        "[a, b, c, a, b, c, a]\n",
        "```"
      ],
      "metadata": {
        "id": "U2Ai7rVDOLBw"
      }
    },
    {
      "cell_type": "code",
      "source": [
        "#Write your code here\n",
        "class Circle:\n",
        "  def __init__(self,sequence,number):\n",
        "    self.__sequence=sequence\n",
        "    self.__number=number\n",
        "\n",
        "  def __iter__(self):\n",
        "    count=1\n",
        "    while True:\n",
        "        for e in self.__sequence:\n",
        "          if count>self.__number:\n",
        "            return None\n",
        "          yield e\n",
        "          count+=1\n",
        "\n",
        "\n",
        "c = Circle('abc', 5)\n",
        "d = Circle('abc', 7)\n",
        "print(list(c))\n",
        "print(list(d))"
      ],
      "metadata": {
        "id": "iwcTy1HyO5hs",
        "colab": {
          "base_uri": "https://localhost:8080/"
        },
        "outputId": "5483b0df-b8fa-4990-aae4-36677e1a8185"
      },
      "execution_count": 15,
      "outputs": [
        {
          "output_type": "stream",
          "name": "stdout",
          "text": [
            "['a', 'b', 'c', 'a', 'b']\n",
            "['a', 'b', 'c', 'a', 'b', 'c', 'a']\n"
          ]
        }
      ]
    },
    {
      "cell_type": "markdown",
      "source": [
        "###`Q6:` Generator time elapsed\n",
        "Write a generator function whose argument must be iterable. With each iteration, the generator will return a two-element tuple. The first element in the tuple will be an integer indicating how many seconds have passed since the previous iteration. The tuple’s second element will be the next item from the passed argument.\n",
        "\n",
        "Note that the timing should be relative to the previous iteration, not when the\n",
        "generator was first created or invoked. Thus the timing number in the first iteration\n",
        "will be 0\n",
        "\n",
        "```\n",
        "for t in elapsed_since('abcd'):\n",
        "    print(t)\n",
        "    time.sleep(2)\n",
        "```\n",
        "\n",
        "Output:\n",
        "```\n",
        "(0.0, 'a')\n",
        "(2.005651817999933, 'b')\n",
        "(2.0023095009998997, 'c')\n",
        "(2.001949742000079, 'd')\n",
        "```\n",
        "Note: Your output may differ because of diffrent system has different processing configuration."
      ],
      "metadata": {
        "id": "17KyhciKQnAE"
      }
    },
    {
      "cell_type": "code",
      "source": [
        "#Write yor code\n",
        "import time\n",
        "def elapsed_since(sequence):\n",
        "  t=0\n",
        "  i=0\n",
        "  for e in sequence:\n",
        "    diff=0\n",
        "    if i:\n",
        "      diff=time.time()-t\n",
        "    t=time.time()\n",
        "    yield (diff,e)\n",
        "    i+=1\n",
        "\n",
        "for t in elapsed_since('abcd'):\n",
        "    print(t)\n",
        "    time.sleep(2)\n"
      ],
      "metadata": {
        "id": "UkH1tj9zQ-gc",
        "colab": {
          "base_uri": "https://localhost:8080/"
        },
        "outputId": "80c1a685-0616-42be-e724-bbb45ad88ee7"
      },
      "execution_count": 18,
      "outputs": [
        {
          "output_type": "stream",
          "name": "stdout",
          "text": [
            "(0, 'a')\n",
            "(2.000142812728882, 'b')\n",
            "(2.0002801418304443, 'c')\n",
            "(2.0002639293670654, 'd')\n"
          ]
        }
      ]
    },
    {
      "cell_type": "code",
      "source": [],
      "metadata": {
        "colab": {
          "base_uri": "https://localhost:8080/"
        },
        "id": "i0X6JreBRlYG",
        "outputId": "f7bae901-6522-4cb7-bea2-5587cebd478a"
      },
      "execution_count": null,
      "outputs": [
        {
          "output_type": "stream",
          "name": "stdout",
          "text": [
            "(0.0, 'a')\n",
            "(2.005651817999933, 'b')\n",
            "(2.0023095009998997, 'c')\n",
            "(2.001949742000079, 'd')\n"
          ]
        }
      ]
    },
    {
      "cell_type": "markdown",
      "source": [
        "## Decorators"
      ],
      "metadata": {
        "id": "fXr3OJxJSC1j"
      }
    },
    {
      "cell_type": "markdown",
      "source": [
        "###`Q7:` Write a Python program to make a chain of function decorators (bold, italic, underline etc.) on a given function which prints \"hello world\"\n",
        "\n",
        "```\n",
        "def hello():\n",
        "    return \"hello world\"\n",
        "```\n",
        "\n",
        "```\n",
        "bold - wrap string with <b> tag. <b>Str</b>\n",
        "italic - wrap string with <i> tag. <i>Str</i>\n",
        "underline- wrap string with <u> tag. <u>Str</u>\n",
        "```"
      ],
      "metadata": {
        "id": "xSjvwAt-SFhi"
      }
    },
    {
      "cell_type": "code",
      "source": [
        "#Write your code here\n",
        "\n",
        "def fontStyle(func):\n",
        "     def bold():\n",
        "      print(\"bold- wrap string with <b> tag. <b>{}</b>\".format(func()))\n",
        "      italic()\n",
        "     def italic():\n",
        "        print(\"italic- wrap string with <i> tag. <i>{}</i>\".format(func()))\n",
        "        underscore()\n",
        "     def underscore():\n",
        "       print(\"underline- wrap string with <u> tag. <u>{}</u>\".format(func()))\n",
        "     return bold\n",
        "\n",
        "\n",
        "\n",
        "@fontStyle\n",
        "def hello():\n",
        "    return \"hello world\"\n",
        "\n",
        "hello()\n"
      ],
      "metadata": {
        "id": "prVeZGYlSorr",
        "colab": {
          "base_uri": "https://localhost:8080/"
        },
        "outputId": "2eedd4de-b9d7-43d5-8f32-769d8cf6e9b4"
      },
      "execution_count": 4,
      "outputs": [
        {
          "output_type": "stream",
          "name": "stdout",
          "text": [
            "bold- wrap string with <b> tag. <b>hello world</b>\n",
            "italic- wrap string with <i> tag. <i>hello world</i>\n",
            "underline- wrap string with <u> tag. <u>hello world</u>\n"
          ]
        }
      ]
    },
    {
      "cell_type": "markdown",
      "source": [
        "###`Q8:` Write a decorator called `printer` which causes any decorated function to print their return values. If the return value of a given function is `None`, printer should do nothing.\n",
        "\n"
      ],
      "metadata": {
        "id": "miKBwPy4TQWa"
      }
    },
    {
      "cell_type": "code",
      "source": [
        "#Write your code here\n",
        "\n",
        "def printer(func):\n",
        "  def wrapper():\n",
        "    result=func()\n",
        "    if result!=None:\n",
        "      print(result)\n",
        "  return wrapper\n",
        "@printer\n",
        "def my_fun():\n",
        "  return None\n",
        "\n",
        "my_fun()"
      ],
      "metadata": {
        "id": "05s0poRoT9II"
      },
      "execution_count": 9,
      "outputs": []
    },
    {
      "cell_type": "markdown",
      "source": [
        "###`Q9:` Make a decorator which calls a given function twice. You can assume the functions don't return anything important, but they may take arguments.\n",
        "```\n",
        "#Lets say given function\n",
        "def hello(string):\n",
        "    print(string)\n",
        "\n",
        "#on calling after specified decorator is inplaced\n",
        "hello('hello')\n",
        "```\n",
        "\n",
        "Output:\n",
        "```\n",
        "hello\n",
        "hello\n",
        "```"
      ],
      "metadata": {
        "id": "DWJLjPOnURua"
      }
    },
    {
      "cell_type": "code",
      "source": [
        "#Write your cod here\n",
        "\n",
        "def twice(func):\n",
        "  def wrapper(s):\n",
        "    for _ in range(2):\n",
        "      func(s)\n",
        "  return wrapper\n",
        "\n",
        "\n",
        "# Lets say given function\n",
        "@twice\n",
        "def hello(string):\n",
        "    print(string)\n",
        "\n",
        "# on calling after specified decorator is inplaced\n",
        "hello('hello')\n"
      ],
      "metadata": {
        "id": "e38y0cz7UTdD",
        "colab": {
          "base_uri": "https://localhost:8080/"
        },
        "outputId": "fa79e0f5-98e1-498d-abed-7e775267ae3b"
      },
      "execution_count": 11,
      "outputs": [
        {
          "output_type": "stream",
          "name": "stdout",
          "text": [
            "hello\n",
            "hello\n"
          ]
        }
      ]
    },
    {
      "cell_type": "markdown",
      "source": [
        "### `Q10:` Write a decorator which doubles the return value of any function. And test that decoratos is working correctly or not using `asert`.\n",
        "\n",
        "```\n",
        "add(2,3) -> result in 10. Without decorator it should be 5.\n",
        "```"
      ],
      "metadata": {
        "id": "8btcQI9pWi2w"
      }
    },
    {
      "cell_type": "code",
      "source": [
        "# Write your code here\n",
        "\n",
        "def double_value(func):\n",
        "  def wrapper(*args):\n",
        "    num1,num2=args\n",
        "    result=func(num1,num2)\n",
        "    return result*2\n",
        "  return wrapper\n",
        "\n",
        "\n",
        "@double_value\n",
        "def add(a,b):\n",
        "  return a+b\n",
        "\n",
        "\n",
        "print(add(20,3))\n"
      ],
      "metadata": {
        "id": "nG6S_zQ9XFb3",
        "colab": {
          "base_uri": "https://localhost:8080/"
        },
        "outputId": "47dfa584-bd41-40e4-c7f2-9d35da3808cb"
      },
      "execution_count": 13,
      "outputs": [
        {
          "output_type": "stream",
          "name": "stdout",
          "text": [
            "46\n"
          ]
        }
      ]
    }
  ]
}