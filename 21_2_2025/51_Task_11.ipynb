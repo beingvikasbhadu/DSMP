{
  "nbformat": 4,
  "nbformat_minor": 0,
  "metadata": {
    "colab": {
      "provenance": [],
      "gpuType": "V28"
    },
    "kernelspec": {
      "name": "python3",
      "display_name": "Python 3"
    },
    "language_info": {
      "name": "python"
    },
    "accelerator": "TPU"
  },
  "cells": [
    {
      "cell_type": "markdown",
      "source": [
        "## Exception Handling\n"
      ],
      "metadata": {
        "id": "ajVfqio_GinI"
      }
    },
    {
      "cell_type": "markdown",
      "source": [
        "###`Q-1`: You are given a function definition. There might be several issues on execution of this function. You are asked to do exception handling for diffrent errors that this function goes in to `without altering this function`. And print error text.\n",
        "\n"
      ],
      "metadata": {
        "id": "0qnQkJtnGozz"
      }
    },
    {
      "cell_type": "markdown",
      "source": [
        "Function parameters `l -> list, s -> could be anything`\n",
        "\n",
        "```\n",
        "def function(l: list, s, **args):\n",
        "    last_element = l[-1]\n",
        "    \n",
        "    l[int(s)]=10\n",
        "    any_element = l[int(s)+10]\n",
        "    l[s]=10\n",
        "    \n",
        "    res = sum(l)\n",
        "    \n",
        "    p = args['p']\n",
        "    # print(p)\n",
        "    return res/last_element * p + any_element\n",
        "\n",
        "```\n",
        "Check for different function calls:-\n",
        "\n",
        "```\n",
        "function([1,2,1], 12)\n",
        "function([1,2,1]*9, '1-2')\n",
        "function([1,'2',1]*9, 12)\n",
        "function([1,'2',1]*9, 12)\n",
        "function([1,2,0]*9, 12  )\n",
        "function([1,2,1]*9, 12, p=None)\n",
        "function([1,2,0]*9, 12, p=10)\n",
        "```"
      ],
      "metadata": {
        "id": "2no_EB2fGyGq"
      }
    },
    {
      "cell_type": "code",
      "source": [
        "# Write code here\n",
        "def function(l: list, s, **args):\n",
        "    last_element = l[-1]\n",
        "\n",
        "    l[int(s)]=10\n",
        "    any_element = l[int(s)+10]\n",
        "    l[s]=10\n",
        "\n",
        "    res = sum(l)\n",
        "\n",
        "    p = args['p']\n",
        "    # print(p)\n",
        "    return res/last_element * p + any_element\n",
        "\n",
        "try:\n",
        "  # function([1,2,1], 12)\n",
        "  # function([1,2,1]*9, '1-2')\n",
        "  # function([1,'2',1]*9, 12)\n",
        "  # function([1,'2',1]*9, 12)\n",
        "  # function([1,2,0]*9, 12  )\n",
        "  # function([1,2,1]*9, 12, p=None)\n",
        "  function([1,2,0]*9, 12, p=10)\n",
        "except TypeError as e:\n",
        "  print(e)\n",
        "except IndexError as e:\n",
        "  print(e)\n",
        "except ZeroDivisionError as e:\n",
        "  print(e)\n",
        "except KeyError as e:\n",
        "  print(e)\n",
        "except ValueError as e:\n",
        "  print(e)"
      ],
      "metadata": {
        "id": "VoaL4_9eGjFU",
        "colab": {
          "base_uri": "https://localhost:8080/"
        },
        "outputId": "2a2dc312-2def-46cb-bec6-53bd0358af16"
      },
      "execution_count": null,
      "outputs": [
        {
          "output_type": "stream",
          "name": "stdout",
          "text": [
            "division by zero\n"
          ]
        }
      ]
    },
    {
      "cell_type": "markdown",
      "source": [
        "###`Q-2:` You are given a code snippet. There might be several issues on execution of this code. You are asked to do exception handling for diffrent errors, condition is what ever happens we need to execute last line printing correct result of `sum of elements`.\n",
        "\n",
        "List have elemnts as any no of  `key-pair dict with key as list index and value as any integer`, `integers` and `numeric-strings`. There is always only one element in the dict.\n",
        "\n",
        "\n",
        "```\n",
        "l = [{0:2},2,3,4,'5', {5:10}]\n",
        "# For calculating sum of above list\n",
        "s=0\n",
        "for i in range(len(l)):\n",
        "    #You can Edit code from here\n",
        "    s += l[i].get(i)\n",
        "    s += l[i]\n",
        "    s += int(l[i])\n",
        "\n",
        "\n",
        "print(s)\n",
        "```"
      ],
      "metadata": {
        "id": "HuLMy2fVG9sL"
      }
    },
    {
      "cell_type": "code",
      "source": [
        "# Write code here\n",
        "\n",
        "l = [{0:2},2,3,4,'5', {5:10}]\n",
        "# For calculating sum of above list\n",
        "s=0\n",
        "for i in range(len(l)):\n",
        "    #You can Edit code from here\n",
        "    s += l[i].get(i)\n",
        "    s += l[i]\n",
        "    s += int(l[i])\n",
        "\n",
        "\n",
        "print(s)"
      ],
      "metadata": {
        "id": "pEP8JU0qHAf8"
      },
      "execution_count": null,
      "outputs": []
    },
    {
      "cell_type": "markdown",
      "source": [
        "### `Q-3:`: File Handling with Exception handling\n",
        "\n",
        "Write a program that opens a text file and write data to it as \"Hello, Good Morning!!!\". Handle exceptions that can be generated during the I/O operations. Do not show the success message on the main exception handling block (write inside the else block)."
      ],
      "metadata": {
        "id": "ohE2fDTXHIan"
      }
    },
    {
      "cell_type": "code",
      "source": [
        "# write code here\n",
        "try:\n",
        "  with open(\"file.txt\",'w') as f:\n",
        "    f.write(\"Hello, Good Morning!!!\")\n",
        "except Exception as e:\n",
        "  print(\"Error:\",e)\n",
        "else:\n",
        "  print(\"Successfully written!\")"
      ],
      "metadata": {
        "id": "iOeiWrcIHPlY",
        "colab": {
          "base_uri": "https://localhost:8080/"
        },
        "outputId": "05141a36-54be-4503-d100-6654866f05ba"
      },
      "execution_count": null,
      "outputs": [
        {
          "output_type": "stream",
          "name": "stdout",
          "text": [
            "Successfully written!\n"
          ]
        }
      ]
    },
    {
      "cell_type": "markdown",
      "source": [
        "### `Q-4`: Number game program.\n",
        "\n",
        "Write a number game program. Ask the user to enter a number. If the number is greater than number to be guessed, raise a **ValueTooLarge** exception. If the value is smaller the number to be guessed the, raise a **ValueTooSmall** exception and prompt the user to enter again. Quit the program only when the user enters the correct number. Also raise **GuessError** if user guess a number less than 1."
      ],
      "metadata": {
        "id": "ru8g8-_bHTUf"
      }
    },
    {
      "cell_type": "code",
      "source": [
        "# Write code here\n",
        "class ValueTooLarge(Exception):\n",
        "  def __init__(self,message):\n",
        "    self.message=message\n",
        "\n",
        "class ValueTooSmall(Exception):\n",
        "  def __init__(self,message):\n",
        "    self.message=message\n",
        "\n",
        "class GuessError(Exception):\n",
        "  def __init__(self,message):\n",
        "    self.message=message\n",
        "\n",
        "\n",
        "\n",
        "\n",
        "def guess_game(original_value):\n",
        "  value=eval(input(\"enter a number\"))\n",
        "  try:\n",
        "    if value>original_value:\n",
        "      raise ValueTooLarge(\"It is greater than actual number\")\n",
        "    elif value<1:\n",
        "      raise GuessError(\"Number can't be less than one\")\n",
        "    elif value<original_value:\n",
        "      raise ValueTooSmall(\"It is smaller than actual number\")\n",
        "    else:\n",
        "      print(\"you guessed correct number!!\")\n",
        "      exit()\n",
        "  except Exception as e:\n",
        "    guess_game(original_value)\n",
        "    print(e)\n",
        "\n",
        "original_value=10\n",
        "guess_game(original_value)"
      ],
      "metadata": {
        "id": "QftlN5LJHZSX"
      },
      "execution_count": null,
      "outputs": []
    },
    {
      "cell_type": "markdown",
      "source": [
        "### `Q-5:` Cast vote\n",
        "\n",
        "Write a program that validate name and age as entered by the user to determine whether the person can cast vote or not. To handle the age, create **InvalidAge** exception and for name, create **InvalidName** exception. The name will be invalid when the string will be empty or name has only one word.\n",
        "\n",
        "Example 1:\n",
        "\n",
        "Input:\n",
        "\n",
        "```bash\n",
        "Enter the name:               goransh singh\n",
        "Enter the age: 25\n",
        "```\n",
        "\n",
        "Output:\n",
        "\n",
        "```bash\n",
        "Goransh Singh  Congratulation !!! You can vote.\n",
        "```"
      ],
      "metadata": {
        "id": "ZsGI_40fHcsd"
      }
    },
    {
      "cell_type": "code",
      "source": [
        "# Write code here\n",
        "\n",
        "class InvalidName(Exception):\n",
        "  def __init__(self,msg):\n",
        "    self.msg=msg\n",
        "\n",
        "class InvalidAge(Exception):\n",
        "  def __init__(self,msg):\n",
        "    self.msg=msg\n",
        "\n",
        "def count_words(s):\n",
        "  l=s.split(' ')\n",
        "  return len(l)\n",
        "\n",
        "try:\n",
        "  name=input(\"Enter name\")\n",
        "  if name=='':\n",
        "    raise InvalidName(\"Name Can't be empty\")\n",
        "  elif count_words(name)==1:\n",
        "    raise InvalidName(\"Name can't be with only one word\")\n",
        "  age=eval(input(\"Enter age\"))\n",
        "  if age<18:\n",
        "    raise InvalidAge(\"Age can't be less than 18\")\n",
        "except InvalidAge as e:\n",
        "  print(e)\n",
        "except InvalidName as e:\n",
        "  print(e)\n",
        "else:\n",
        "  print(\"You can vote!!\")"
      ],
      "metadata": {
        "id": "OHL3UiS4Hi3U",
        "colab": {
          "base_uri": "https://localhost:8080/"
        },
        "outputId": "4a547785-5313-4bfd-bc54-fb749ca68c58"
      },
      "execution_count": 6,
      "outputs": [
        {
          "output_type": "stream",
          "name": "stdout",
          "text": [
            "Enter namevikas bhadu\n",
            "Enter age20\n",
            "You can vote!!\n"
          ]
        }
      ]
    },
    {
      "cell_type": "markdown",
      "source": [
        "### `Q-6`: Write a python function which infinitely prints natural numbers in a single line. Raise the **StopIteration** exception after displaying first 20 numnbers to exit from the program."
      ],
      "metadata": {
        "id": "SCvs0QjgHlOG"
      }
    },
    {
      "cell_type": "code",
      "source": [
        "# Write code here\n",
        "\n",
        "try:\n",
        "  counter=1\n",
        "  while True:\n",
        "    if counter>20:\n",
        "      raise StopIteration(\"Bas 20 numbers print ho gye!\")\n",
        "    print(counter)\n",
        "    counter+=1\n",
        "except StopIteration as e:\n",
        "  print(e)"
      ],
      "metadata": {
        "id": "Lc5ilNgNHoSx",
        "colab": {
          "base_uri": "https://localhost:8080/"
        },
        "outputId": "e1a20f44-506f-4a7a-ec5f-fedc850d8a3a"
      },
      "execution_count": 7,
      "outputs": [
        {
          "output_type": "stream",
          "name": "stdout",
          "text": [
            "1\n",
            "2\n",
            "3\n",
            "4\n",
            "5\n",
            "6\n",
            "7\n",
            "8\n",
            "9\n",
            "10\n",
            "11\n",
            "12\n",
            "13\n",
            "14\n",
            "15\n",
            "16\n",
            "17\n",
            "18\n",
            "19\n",
            "20\n",
            "Bas 20 numbers print ho gye!\n"
          ]
        }
      ]
    }
  ]
}